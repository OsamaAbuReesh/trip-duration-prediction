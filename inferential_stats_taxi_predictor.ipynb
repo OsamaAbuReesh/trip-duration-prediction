{
 "cells": [
  {
   "cell_type": "markdown",
   "metadata": {},
   "source": [
    "# Import Libraries"
   ]
  },
  {
   "cell_type": "code",
   "execution_count": 19,
   "metadata": {},
   "outputs": [],
   "source": [
    "# Import libraries needed for API and calculations\n",
    "# For API, use the sodapy library for High Volume API.\n",
    "# Install the library if not already installed.\n",
    "# %pip install sodapy\n",
    "\n",
    "import pandas as pd\n",
    "from sodapy import Socrata\n",
    "from datetime import datetime\n",
    "import numpy as np\n",
    "from scipy.stats import t"
   ]
  },
  {
   "cell_type": "markdown",
   "metadata": {},
   "source": [
    "# API Request\n"
   ]
  },
  {
   "cell_type": "code",
   "execution_count": 20,
   "metadata": {},
   "outputs": [
    {
     "name": "stderr",
     "output_type": "stream",
     "text": [
      "WARNING:root:Requests made without an app_token will be subject to strict throttling limits.\n"
     ]
    }
   ],
   "source": [
    "# Set up the Socrata client for accessing the API\n",
    "client = Socrata(\"data.cityofnewyork.us\", None)\n",
    "\n",
    "# Fetch data from the API (adjust the limit as needed)\n",
    "limit = 200000\n",
    "results = client.get(\"4p5c-cbgn\", limit=limit)\n",
    "\n",
    "# Convert the results to a DataFrame\n",
    "results_df = pd.DataFrame.from_records(results)"
   ]
  },
  {
   "cell_type": "markdown",
   "metadata": {},
   "source": [
    "**Checking DataFrame Shape and First Rows**\n"
   ]
  },
  {
   "cell_type": "code",
   "execution_count": 21,
   "metadata": {},
   "outputs": [
    {
     "name": "stdout",
     "output_type": "stream",
     "text": [
      "DataFrame Shape: (200000, 7)\n"
     ]
    },
    {
     "data": {
      "text/html": [
       "<div>\n",
       "<style scoped>\n",
       "    .dataframe tbody tr th:only-of-type {\n",
       "        vertical-align: middle;\n",
       "    }\n",
       "\n",
       "    .dataframe tbody tr th {\n",
       "        vertical-align: top;\n",
       "    }\n",
       "\n",
       "    .dataframe thead th {\n",
       "        text-align: right;\n",
       "    }\n",
       "</style>\n",
       "<table border=\"1\" class=\"dataframe\">\n",
       "  <thead>\n",
       "    <tr style=\"text-align: right;\">\n",
       "      <th></th>\n",
       "      <th>hvfhs_license_num</th>\n",
       "      <th>dispatching_base_num</th>\n",
       "      <th>pickup_datetime</th>\n",
       "      <th>dropoff_datetime</th>\n",
       "      <th>pulocationid</th>\n",
       "      <th>dolocationid</th>\n",
       "      <th>sr_flag</th>\n",
       "    </tr>\n",
       "  </thead>\n",
       "  <tbody>\n",
       "    <tr>\n",
       "      <th>0</th>\n",
       "      <td>HV0003</td>\n",
       "      <td>B02879</td>\n",
       "      <td>2019-05-27T18:14:01.000</td>\n",
       "      <td>2019-05-27T18:28:37.000</td>\n",
       "      <td>67</td>\n",
       "      <td>11</td>\n",
       "      <td>NaN</td>\n",
       "    </tr>\n",
       "    <tr>\n",
       "      <th>1</th>\n",
       "      <td>HV0003</td>\n",
       "      <td>B02864</td>\n",
       "      <td>2019-05-27T18:22:18.000</td>\n",
       "      <td>2019-05-27T18:52:47.000</td>\n",
       "      <td>17</td>\n",
       "      <td>39</td>\n",
       "      <td>NaN</td>\n",
       "    </tr>\n",
       "    <tr>\n",
       "      <th>2</th>\n",
       "      <td>HV0003</td>\n",
       "      <td>B02877</td>\n",
       "      <td>2019-05-27T18:12:45.000</td>\n",
       "      <td>2019-05-27T18:20:09.000</td>\n",
       "      <td>144</td>\n",
       "      <td>113</td>\n",
       "      <td>NaN</td>\n",
       "    </tr>\n",
       "    <tr>\n",
       "      <th>3</th>\n",
       "      <td>HV0003</td>\n",
       "      <td>B02877</td>\n",
       "      <td>2019-05-27T18:29:08.000</td>\n",
       "      <td>2019-05-27T18:35:33.000</td>\n",
       "      <td>164</td>\n",
       "      <td>233</td>\n",
       "      <td>NaN</td>\n",
       "    </tr>\n",
       "    <tr>\n",
       "      <th>4</th>\n",
       "      <td>HV0003</td>\n",
       "      <td>B02877</td>\n",
       "      <td>2019-05-27T18:44:17.000</td>\n",
       "      <td>2019-05-27T19:00:05.000</td>\n",
       "      <td>233</td>\n",
       "      <td>68</td>\n",
       "      <td>NaN</td>\n",
       "    </tr>\n",
       "  </tbody>\n",
       "</table>\n",
       "</div>"
      ],
      "text/plain": [
       "  hvfhs_license_num dispatching_base_num          pickup_datetime  \\\n",
       "0            HV0003               B02879  2019-05-27T18:14:01.000   \n",
       "1            HV0003               B02864  2019-05-27T18:22:18.000   \n",
       "2            HV0003               B02877  2019-05-27T18:12:45.000   \n",
       "3            HV0003               B02877  2019-05-27T18:29:08.000   \n",
       "4            HV0003               B02877  2019-05-27T18:44:17.000   \n",
       "\n",
       "          dropoff_datetime pulocationid dolocationid sr_flag  \n",
       "0  2019-05-27T18:28:37.000           67           11     NaN  \n",
       "1  2019-05-27T18:52:47.000           17           39     NaN  \n",
       "2  2019-05-27T18:20:09.000          144          113     NaN  \n",
       "3  2019-05-27T18:35:33.000          164          233     NaN  \n",
       "4  2019-05-27T19:00:05.000          233           68     NaN  "
      ]
     },
     "execution_count": 21,
     "metadata": {},
     "output_type": "execute_result"
    }
   ],
   "source": [
    "# Display the shape of the DataFrame\n",
    "print(\"DataFrame Shape:\", results_df.shape)\n",
    "\n",
    "# Display the first few rows of the DataFrame\n",
    "results_df.head()"
   ]
  },
  {
   "cell_type": "markdown",
   "metadata": {},
   "source": [
    "``trip_duration`` function"
   ]
  },
  {
   "cell_type": "code",
   "execution_count": 22,
   "metadata": {},
   "outputs": [],
   "source": [
    "def trip_duration(data_frame):\n",
    "    \"\"\"\n",
    "    Calculates trip duration for taxi rides.\n",
    "\n",
    "    Parameters:\n",
    "    - data_frame: DataFrame containing 'pickup_datetime' and 'dropoff_datetime' columns.\n",
    "\n",
    "    Returns:\n",
    "    - DataFrame with a new column named 'trip_duration' (in minutes).\n",
    "    \"\"\"\n",
    "    data_frame['dropoff_datetime'] = pd.to_datetime(data_frame['dropoff_datetime'], format=\"%Y-%m-%dT%H:%M:%S.%f\")\n",
    "    data_frame['pickup_datetime'] = pd.to_datetime(data_frame['pickup_datetime'], format=\"%Y-%m-%dT%H:%M:%S.%f\")\n",
    "\n",
    "    data_frame['trip_duration'] = (data_frame['dropoff_datetime'] - data_frame['pickup_datetime']).dt.total_seconds() / 60\n",
    "\n",
    "    return data_frame"
   ]
  },
  {
   "cell_type": "markdown",
   "metadata": {},
   "source": [
    "`add_features_time` function\n"
   ]
  },
  {
   "cell_type": "code",
   "execution_count": 23,
   "metadata": {},
   "outputs": [],
   "source": [
    "def add_features_time(data_frame):\n",
    "    \"\"\"\n",
    "    Adds time-related features to the DataFrame.\n",
    "\n",
    "    Parameters:\n",
    "    - data_frame: DataFrame containing 'pickup_datetime' column.\n",
    "\n",
    "    Returns:\n",
    "    - DataFrame with new columns 'hour' and 'day_of_week'.\n",
    "    \"\"\"\n",
    "    data_frame['hour'] = data_frame['pickup_datetime'].dt.hour\n",
    "    data_frame['day_of_week'] = data_frame['pickup_datetime'].dt.dayofweek\n",
    "\n",
    "    return data_frame"
   ]
  },
  {
   "cell_type": "markdown",
   "metadata": {},
   "source": [
    "`calculate_confidence_interval` function"
   ]
  },
  {
   "cell_type": "code",
   "execution_count": 24,
   "metadata": {},
   "outputs": [],
   "source": [
    "def calculate_confidence_interval(data_frame):\n",
    "    \"\"\"\n",
    "    Computes mean trip duration and margin of error using a 95% confidence interval.\n",
    "\n",
    "    Parameters:\n",
    "    - data_frame: DataFrame containing 'trip_duration' column.\n",
    "\n",
    "    Returns:\n",
    "    - DataFrame 'predictions' with columns: 'mean_trip_duration' and 'margin_of_error'.\n",
    "    \"\"\"\n",
    "    grouped_data = data_frame.groupby(['pulocationid', 'dolocationid', 'day_of_week', 'hour'])['trip_duration']\n",
    "\n",
    "    mean_duration = grouped_data.mean()\n",
    "    std_dev = grouped_data.std()\n",
    "    sample_size = grouped_data.count() \n",
    "\n",
    "    margin_of_error = t.ppf(0.95, df=(sample_size - 1)) * (std_dev / np.sqrt(sample_size))\n",
    "\n",
    "    predictions = pd.DataFrame({\n",
    "        'mean_trip_duration': mean_duration,\n",
    "        'margin_of_error': margin_of_error\n",
    "    })\n",
    "\n",
    "    return predictions\n"
   ]
  },
  {
   "cell_type": "markdown",
   "metadata": {},
   "source": [
    "`generate_predictions` function"
   ]
  },
  {
   "cell_type": "code",
   "execution_count": 25,
   "metadata": {},
   "outputs": [],
   "source": [
    "def generate_predictions(results_df):\n",
    "    \"\"\"\n",
    "    Reads the data file, performs necessary computations, and generates the 'predictions' data frame.\n",
    "\n",
    "    Parameters:\n",
    "    - results_df: DataFrame containing raw data.\n",
    "\n",
    "    Returns:\n",
    "    - DataFrame 'predictions' with mean trip duration and margin of error.\n",
    "    \"\"\"\n",
    "    data = trip_duration(results_df)\n",
    "    data = add_features_time(data)\n",
    "\n",
    "    predictions = calculate_confidence_interval(data)\n",
    "\n",
    "    return predictions"
   ]
  },
  {
   "cell_type": "code",
   "execution_count": 26,
   "metadata": {},
   "outputs": [
    {
     "data": {
      "text/html": [
       "<div>\n",
       "<style scoped>\n",
       "    .dataframe tbody tr th:only-of-type {\n",
       "        vertical-align: middle;\n",
       "    }\n",
       "\n",
       "    .dataframe tbody tr th {\n",
       "        vertical-align: top;\n",
       "    }\n",
       "\n",
       "    .dataframe thead th {\n",
       "        text-align: right;\n",
       "    }\n",
       "</style>\n",
       "<table border=\"1\" class=\"dataframe\">\n",
       "  <thead>\n",
       "    <tr style=\"text-align: right;\">\n",
       "      <th></th>\n",
       "      <th></th>\n",
       "      <th></th>\n",
       "      <th></th>\n",
       "      <th>mean_trip_duration</th>\n",
       "      <th>margin_of_error</th>\n",
       "    </tr>\n",
       "    <tr>\n",
       "      <th>pulocationid</th>\n",
       "      <th>dolocationid</th>\n",
       "      <th>day_of_week</th>\n",
       "      <th>hour</th>\n",
       "      <th></th>\n",
       "      <th></th>\n",
       "    </tr>\n",
       "  </thead>\n",
       "  <tbody>\n",
       "    <tr>\n",
       "      <th rowspan=\"5\" valign=\"top\">1</th>\n",
       "      <th>106</th>\n",
       "      <th>1</th>\n",
       "      <th>2</th>\n",
       "      <td>43.800000</td>\n",
       "      <td>NaN</td>\n",
       "    </tr>\n",
       "    <tr>\n",
       "      <th>107</th>\n",
       "      <th>0</th>\n",
       "      <th>21</th>\n",
       "      <td>36.066667</td>\n",
       "      <td>NaN</td>\n",
       "    </tr>\n",
       "    <tr>\n",
       "      <th rowspan=\"2\" valign=\"top\">113</th>\n",
       "      <th rowspan=\"2\" valign=\"top\">0</th>\n",
       "      <th>20</th>\n",
       "      <td>39.166667</td>\n",
       "      <td>NaN</td>\n",
       "    </tr>\n",
       "    <tr>\n",
       "      <th>21</th>\n",
       "      <td>30.083333</td>\n",
       "      <td>NaN</td>\n",
       "    </tr>\n",
       "    <tr>\n",
       "      <th>13</th>\n",
       "      <th>0</th>\n",
       "      <th>21</th>\n",
       "      <td>25.533333</td>\n",
       "      <td>NaN</td>\n",
       "    </tr>\n",
       "    <tr>\n",
       "      <th>...</th>\n",
       "      <th>...</th>\n",
       "      <th>...</th>\n",
       "      <th>...</th>\n",
       "      <td>...</td>\n",
       "      <td>...</td>\n",
       "    </tr>\n",
       "    <tr>\n",
       "      <th>98</th>\n",
       "      <th>98</th>\n",
       "      <th>1</th>\n",
       "      <th>1</th>\n",
       "      <td>4.566667</td>\n",
       "      <td>NaN</td>\n",
       "    </tr>\n",
       "    <tr>\n",
       "      <th rowspan=\"4\" valign=\"top\">99</th>\n",
       "      <th>23</th>\n",
       "      <th>1</th>\n",
       "      <th>2</th>\n",
       "      <td>9.283333</td>\n",
       "      <td>NaN</td>\n",
       "    </tr>\n",
       "    <tr>\n",
       "      <th>44</th>\n",
       "      <th>1</th>\n",
       "      <th>1</th>\n",
       "      <td>10.816667</td>\n",
       "      <td>NaN</td>\n",
       "    </tr>\n",
       "    <tr>\n",
       "      <th rowspan=\"2\" valign=\"top\">5</th>\n",
       "      <th rowspan=\"2\" valign=\"top\">0</th>\n",
       "      <th>21</th>\n",
       "      <td>6.083333</td>\n",
       "      <td>NaN</td>\n",
       "    </tr>\n",
       "    <tr>\n",
       "      <th>22</th>\n",
       "      <td>13.883333</td>\n",
       "      <td>NaN</td>\n",
       "    </tr>\n",
       "  </tbody>\n",
       "</table>\n",
       "<p>79529 rows × 2 columns</p>\n",
       "</div>"
      ],
      "text/plain": [
       "                                            mean_trip_duration  \\\n",
       "pulocationid dolocationid day_of_week hour                       \n",
       "1            106          1           2              43.800000   \n",
       "             107          0           21             36.066667   \n",
       "             113          0           20             39.166667   \n",
       "                                      21             30.083333   \n",
       "             13           0           21             25.533333   \n",
       "...                                                        ...   \n",
       "98           98           1           1               4.566667   \n",
       "99           23           1           2               9.283333   \n",
       "             44           1           1              10.816667   \n",
       "             5            0           21              6.083333   \n",
       "                                      22             13.883333   \n",
       "\n",
       "                                            margin_of_error  \n",
       "pulocationid dolocationid day_of_week hour                   \n",
       "1            106          1           2                 NaN  \n",
       "             107          0           21                NaN  \n",
       "             113          0           20                NaN  \n",
       "                                      21                NaN  \n",
       "             13           0           21                NaN  \n",
       "...                                                     ...  \n",
       "98           98           1           1                 NaN  \n",
       "99           23           1           2                 NaN  \n",
       "             44           1           1                 NaN  \n",
       "             5            0           21                NaN  \n",
       "                                      22                NaN  \n",
       "\n",
       "[79529 rows x 2 columns]"
      ]
     },
     "execution_count": 26,
     "metadata": {},
     "output_type": "execute_result"
    }
   ],
   "source": [
    "predicted_df = generate_predictions(results_df)\n",
    "predicted_df"
   ]
  }
 ],
 "metadata": {
  "kernelspec": {
   "display_name": "Python 3",
   "language": "python",
   "name": "python3"
  },
  "language_info": {
   "codemirror_mode": {
    "name": "ipython",
    "version": 3
   },
   "file_extension": ".py",
   "mimetype": "text/x-python",
   "name": "python",
   "nbconvert_exporter": "python",
   "pygments_lexer": "ipython3",
   "version": "3.11.5"
  }
 },
 "nbformat": 4,
 "nbformat_minor": 2
}
